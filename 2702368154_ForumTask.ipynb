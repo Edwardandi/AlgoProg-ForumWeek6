{
 "cells": [
  {
   "cell_type": "code",
   "execution_count": 17,
   "id": "6f3f08b6-3cc1-4044-941a-d947fe6c848d",
   "metadata": {},
   "outputs": [
    {
     "name": "stdout",
     "output_type": "stream",
     "text": [
      "Lloyd\n",
      "[90.0, 97.0, 75.0, 92.0]\n",
      "[88.0, 40.0, 94.0]\n",
      "[75.0, 90.0]\n",
      "Alice\n",
      "[100.0, 92.0, 98.0, 100.0]\n",
      "[82.0, 83.0, 91.0]\n",
      "[89.0, 97.0]\n",
      "Tyler\n",
      "[0.0, 87.0, 75.0, 22.0]\n",
      "[0.0, 75.0, 78.0]\n",
      "[100.0, 100.0]\n"
     ]
    },
    {
     "ename": "TypeError",
     "evalue": "AverageNum() takes 0 positional arguments but 1 was given",
     "output_type": "error",
     "traceback": [
      "\u001b[1;31m---------------------------------------------------------------------------\u001b[0m",
      "\u001b[1;31mTypeError\u001b[0m                                 Traceback (most recent call last)",
      "Cell \u001b[1;32mIn[17], line 43\u001b[0m\n\u001b[0;32m     40\u001b[0m     total \u001b[38;5;241m/\u001b[39m\u001b[38;5;241m/\u001b[39m \u001b[38;5;28mlen\u001b[39m\n\u001b[0;32m     41\u001b[0m     \u001b[38;5;28;01mreturn\u001b[39;00m \n\u001b[1;32m---> 43\u001b[0m \u001b[43mAverageNum\u001b[49m\u001b[43m(\u001b[49m\u001b[38;5;124;43m'\u001b[39;49m\u001b[38;5;124;43mlloyd\u001b[39;49m\u001b[38;5;124;43m'\u001b[39;49m\u001b[43m)\u001b[49m\n\u001b[0;32m     44\u001b[0m \u001b[38;5;28mprint\u001b[39m(total)\n",
      "\u001b[1;31mTypeError\u001b[0m: AverageNum() takes 0 positional arguments but 1 was given"
     ]
    }
   ],
   "source": [
    "lloyd = {\n",
    " \"name\": \"Lloyd\",\n",
    " \"homework\": [90.0,97.0,75.0,92.0],\n",
    " \"quizzes\": [88.0,40.0,94.0],\n",
    " \"tests\": [75.0,90.0]\n",
    "}\n",
    "alice = {\n",
    " \"name\": \"Alice\",\n",
    " \"homework\": [100.0, 92.0, 98.0, 100.0],\n",
    " \"quizzes\": [82.0, 83.0, 91.0],\n",
    " \"tests\": [89.0, 97.0]\n",
    "}\n",
    "tyler = {\n",
    " \"name\": \"Tyler\",\n",
    " \"homework\": [0.0, 87.0, 75.0, 22.0],\n",
    " \"quizzes\": [0.0, 75.0, 78.0],\n",
    " \"tests\": [100.0, 100.0]\n",
    "}\n",
    "\n",
    "students=[lloyd, alice, tyler]\n",
    "\n",
    "print(lloyd.get(\"name\"))\n",
    "print(lloyd.get(\"homework\"))\n",
    "print(lloyd.get(\"quizzes\"))\n",
    "print(lloyd.get(\"tests\") )\n",
    "\n",
    "print(alice.get(\"name\"))\n",
    "print(alice.get(\"homework\"))\n",
    "print(alice.get(\"quizzes\"))\n",
    "print(alice.get(\"tests\"))\n",
    "\n",
    "print(tyler.get(\"name\"))\n",
    "print(tyler.get(\"homework\"))\n",
    "print(tyler.get(\"quizzes\"))\n",
    "print(tyler.get(\"tests\"))\n",
    "\n",
    "def AverageNum():\n",
    "    total = sum(homework) \n",
    "    total = float(total)\n",
    "    total // len\n",
    "    return \n",
    "\n",
    "AverageNum()\n",
    "print(total)\n",
    "\n",
    "def Get_Average(student):\n",
    "    Homework = AverageSum(student[\"homework\"])\n",
    "\n",
    "def Get_Letter_Grade(score):\n",
    "    \n"
   ]
  },
  {
   "cell_type": "code",
   "execution_count": null,
   "id": "15a2f7ec-8293-47ab-ba8a-369f19453704",
   "metadata": {},
   "outputs": [],
   "source": []
  },
  {
   "cell_type": "code",
   "execution_count": null,
   "id": "1629f3dd-6412-4f8a-8fe1-daf77222ede7",
   "metadata": {},
   "outputs": [],
   "source": []
  }
 ],
 "metadata": {
  "kernelspec": {
   "display_name": "Python 3 (ipykernel)",
   "language": "python",
   "name": "python3"
  },
  "language_info": {
   "codemirror_mode": {
    "name": "ipython",
    "version": 3
   },
   "file_extension": ".py",
   "mimetype": "text/x-python",
   "name": "python",
   "nbconvert_exporter": "python",
   "pygments_lexer": "ipython3",
   "version": "3.10.11"
  }
 },
 "nbformat": 4,
 "nbformat_minor": 5
}
